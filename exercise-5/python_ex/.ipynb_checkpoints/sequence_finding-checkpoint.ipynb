{
 "cells": [
  {
   "cell_type": "code",
   "execution_count": null,
   "metadata": {
    "collapsed": true
   },
   "outputs": [],
   "source": [
    "###want to import data file from Marra2014_data.fasta\n",
    "    #fasta files have header lines that begin with a > character,\n",
    "    #other lines are protein or data sequences\n",
    "    #currently stored CSB/unix/data\n",
    "#need import from wherever it is\n",
    "#need export csv in current working directory\n",
    "    #csv file with 2 columns\n",
    "        #one with name of sequence\n",
    "        #second with number of times the seq AATG appears in contig\n",
    "            #can use grep?\n",
    "                #use the options to find single words etc\n",
    "\n",
    "#should output to gauravs_output.csv\n",
    "\n",
    "#try separate the code into chunks, \n",
    "#test it with a much smaller datafile, so that program runs\n",
    "\n",
    "\n",
    "#code to count all instances of AATG\n",
    "    #grep -coE \"AATG\" <input>\n",
    "        #c for count, -o for individual, -E for regular expression,\n",
    "        #\"AATG\" for the pattern\n",
    "        \n",
    "        \n",
    "        \n",
    "        \n",
    "#oune issue to condiser is that in FASTA, sequences have a linebreak every 80 characters\n",
    "#so if we want to search, we may need to get rid of it?\n",
    "#don't want to get rid of all the line breaks, just those which are not starting by an >\n",
    "    \n"
   ]
  },
  {
   "cell_type": "markdown",
   "metadata": {},
   "source": [
    "### Hints given\n",
    "```\n",
    "if (re.match(pattern=\">\", string=line)):\n",
    "```\n",
    "Can use this to find if the line contains the contig name\n",
    "    \n",
    "```    \n",
    "contig_name = re.search(\">(\\w*)\\s.*\", line).group(1)\n",
    "```\n",
    "Can use this to set the contig name which we will eventually want to set as the key\n",
    "\n",
    "```\n",
    "output.write(key+\",\"+str(value)+\"\\n\")\n",
    "```\n",
    "this is part of the final part of the whole thing, putting the output into the correct format, pulls from a dictionary"
   ]
  },
  {
   "cell_type": "code",
   "execution_count": 10,
   "metadata": {
    "collapsed": false
   },
   "outputs": [],
   "source": [
    "#Loading the data workspace for the example\n",
    "\n",
    "SearchFile=open(\"/home/eeb177-student/Desktop/eeb-177/CSB/unix/sandbox/wk5_test_file.csv\", \"r\")\n",
    "SeqLines=SearchFile.readlines()\n",
    "\n",
    "#this gets us a file with each line on its own"
   ]
  },
  {
   "cell_type": "markdown",
   "metadata": {},
   "source": [
    "#### Changing the format\n",
    "\n",
    "    use a if then statement to change the format\n",
    "    if line.startswith(\">\")==False:\n",
    "        then want to replace the line break at the end of the line\n",
    "        line.replace(old=\"\\n\", new=\"\")\n",
    "    else:\n",
    "        line.replace(old=\"\\n\", new=\"\\n\"\n",
    "        "
   ]
  },
  {
   "cell_type": "markdown",
   "metadata": {},
   "source": [
    "Can use this basic logic?\n",
    "aa=[]\n",
    "for var in \"apple\":\n",
    "    aa.append(var)\n",
    "    print(aa)\n",
    "\"\".join(aa)\n",
    "will output apple"
   ]
  },
  {
   "cell_type": "code",
   "execution_count": 47,
   "metadata": {
    "collapsed": false
   },
   "outputs": [],
   "source": [
    "\n",
    "def format_seqs():\n",
    "    Funct_Dict={}\n",
    "    for line in SeqLines:\n",
    "        if line.startswith(\">\") == True:\n",
    "            contigname=line.split(\"  \")[0]\n",
    "            seqholder=\"\"\n",
    "        else:\n",
    "            trimmed=line.replace(\"\\n\", \"\")\n",
    "            seqholder=seqholder+trimmed\n",
    "            Funct_Dict[contigname]=seqholder\n",
    "    return Funct_Dict\n",
    "xx=format_seqs()\n",
    "\n",
    "#ok we now have the properly formated sequence keyed to the contig\n",
    "#exist as a key-value pair in the dictionary item we assign as output of the function"
   ]
  },
  {
   "cell_type": "code",
   "execution_count": 49,
   "metadata": {
    "collapsed": false
   },
   "outputs": [
    {
     "name": "stdout",
     "output_type": "stream",
     "text": [
      ">contig00001 Corresponds to \n",
      "ATCCTAGCTACTCTGGAGACTGAGGATTGAAGTTCAAAGTCAGCTCAAGCAAGAGATTTGTTTACAATTAACCCACAAAAGGCTGTTACTGAAGGTGTGGCTTAAGTGTCAGAGCAACAGCTATGAGTGGAGGAATTTTCTATTACAATATAATTTCATCTCTGGTAAATTGACCAATTAACTGGAACTTTTTCCAACTGAAATAAATGGTAAACTTTTTATCCACCATTCTGCCATCTGACTCACAAAGACCCATGGGAATGGGTGATGAAATCCAACATGCTTCTTTGTAGCAAAAATAAATAAAATCCCCAGAAGGGTGAGGTAAATGGAAAACTCCAAACTCGCCCCTCAGGTGGGTGTAATTTACCCAAGTCTGAGAGGAGGCAGAGTTTTTCCCAATGGACTTTGGTTAAGTGAGATATGCTGGTCTGTAGAAGGAGGGAGTTCTAGGAAAACAGACACTTAAGTAGGGCCGAACTAAAAATTGTATCAGTCAGATCTTCATGTGAAGTCCTGTGTGCCCA\n",
      ">contig00003 Corresponds to \n",
      "CACGGCACAAAGAGGATAGGAAGGTAAAACAACGCTGGGAACGGAGCACAAGGGCTGTCCTGGCACTGGCGCCCTCCTCCAACCCAGCCAGGGTTGGAAAAAGCCTAATGAGCCACAAGGCTCAGGAAAAACCACAGCCAACCTCAAGGTGCCTGGTCCTGTGCCTGGTTCTGCCGTCCACTCCTGACTCTGCCACACTGGGAACTGCTCTTTCTTTGGTATGTGCTGGTCGTGGGGCATGAACTGAGGGCCTAGGTGTTATCTCTTAGCTTTATACTCAAAGATGGTGCTTTACTACTTGAGCCACACCTGCAGCTCCGATTTTTGCTGGTTAATTAGAATTTGTCTGTATAGGCTGGCTCTAAATTATGATCTCACTCAACCTTTTAAGTGTCCCAGGCTGGTATTGAACTCAAGAATCCTCTATGAATCCTTAGTAGTTGGGGTTATAGGTATGTCCCACTATGTCTGGCATTAGTTTTCTGGGTAGTGATTTTAGTGTGCTAAGTACAGAAGAAGAAGGAGGAAGAGGAGGAGGAGG\n",
      ">contig00004 Corresponds to \n",
      "GTACCAGACTGTCCACCCTGGGATGCTTTTAGGAAGACATCTGTTCATCTTGGCCCCAGACTGTTTTTTATCTCCTTCAGTCACTTTTCCTTCTCGTCAACACTTAGCTCCTTTCTAATGGGACAAGTACTTCTGTTCCCACGCATAGCCTGTGGGATTTTTGGCTCCATTTTGCTGTTCTTTCCCCTGACATTCCATCACGCGTAACCGTTGGTCAGGTGCTGTCCGTGCCCAATTCCCTTTGTTCTCTCAGCCAGCCTCCGTCCTTCCCTGAGCCTCCAGAACACCCAG\n",
      ">contig00005 Corresponds to \n",
      "AGGAAGTAGCTAAAAACTTATTAGCTGAATTTAATTTGGGCTGTGATGTTCACCAAACGGAGCATGTTTACCGAGTCTATGTGGCCACATTTCTTGGGTTTGGTGGCAACGCTGCTCGACAGAGATATGAAGACAGAATATTTGCCAGCACAGTTCAGAAAAACAGGCTCCTGAGTAAACAGACTGGTCTGACCCGTGATGCTCCCTACCTGGACCCATGCCTGCCCCTGGACATTAAAGATGAGATCCGACAAAATGGACAGACCTTGTACCTGCGGGGAACAGGAGACTTTGATCTGTGTCGAGAAACCCTCCAGCCTTTCATGAACAAAACCAATGAGACACAGACATCCCTCAATGGCGTCTACCAGCCTCCAATTCACTTCCAGAACAGTGAATTCTATGGCTTCTCTGAGTTCTACTATTGCACCGAGGATGTGTTGCGGATGGGGGGAGACTACAATGCTGCCAAATTCACTAAAGCTGCAAAGGATTATTGTGCAACGAAGTGGTCGATCTTGCAGGAACGCTTTGACCGAGGGCTCTATGCCTCCCATGCTGACCTCCACCGGCTGAAGTa\n",
      ">contig00002 Corresponds to \n",
      "GAACCATCCTGCGCGGGAAAGATCTAGAAGCTGGCACGTCAAACTGCTGCCGAGTAACGACTGTGAAAATACAGAGCAGAACGTACAGGTGGTAATGCACTGGAAAGGAAGAAACTGATCGTCTCCTGTGACCTCCAGATTCCACTGGCATAAGTACTGTCATCTGTGTGCCACACAGAAAGGCGCTCCGTGGTAAAGTACGATCATCACCAATCTACCTATAAGAGAAACAGACTGGCTCCACAGTGCAAGTATAAGGGAGACTTGGAGAAGGCACTTGAAGGCACTGTTTTAATTAATTCCATCATTTCTTTGGTATTTCTCAGGCTTTGGGATCCTCTGTAAACCTGGCATCCACTGGTGGAAGCTTTATGGGTGTGGGGGAGGCACTGGCATCATCAGAGTGCGACGGTCCTCAGCAGGTTCCCCGGGGTGCCCGGCCCCACCACGTATGTGCACTCCGACTTCTCTGCAAACTTCCCGCAGCAGGACCAGTGGGGACGGCCCGGATGGCCCTTGTGTCCGTGACCGCAGCCCAGGTACCCACCTGg\n"
     ]
    }
   ],
   "source": [
    "for key, value in xx.items():\n",
    "    print(key+\" Corresponds to \\n\"+value)\n"
   ]
  },
  {
   "cell_type": "markdown",
   "metadata": {},
   "source": [
    "Searching for the sequence\n",
    "\n",
    "it seems like not all the bases are always upper case,\n",
    "will have to standardize it before searching\n",
    "can do this with .upper() method\n",
    "\n",
    "something like\n",
    "    for key, value in Formated_Dict.items:\n",
    "        contig_name=key[1:-1]\n",
    "        matches=value.count(\"AATG\")\n",
    "        print(contig_name+\", \"+str(matches)+\"\\n\")"
   ]
  },
  {
   "cell_type": "code",
   "execution_count": 56,
   "metadata": {
    "collapsed": false
   },
   "outputs": [
    {
     "name": "stdout",
     "output_type": "stream",
     "text": [
      "contig00001, 4\n",
      "\n",
      "contig00003, 1\n",
      "\n",
      "contig00004, 1\n",
      "\n",
      "contig00005, 4\n",
      "\n",
      "contig00002, 1\n",
      "\n"
     ]
    }
   ],
   "source": [
    "for key, value in xx.items():\n",
    "    contig_name = key[1:]\n",
    "    matches=value.count(\"AATG\")\n",
    "    print(contig_name+\", \"+str(matches)+\"\\n\")\n",
    "\n",
    "#this gives the appropriate output, don't know if its the correct order"
   ]
  },
  {
   "cell_type": "code",
   "execution_count": null,
   "metadata": {
    "collapsed": true
   },
   "outputs": [],
   "source": []
  }
 ],
 "metadata": {
  "anaconda-cloud": {},
  "kernelspec": {
   "display_name": "Python [default]",
   "language": "python",
   "name": "python3"
  },
  "language_info": {
   "codemirror_mode": {
    "name": "ipython",
    "version": 3
   },
   "file_extension": ".py",
   "mimetype": "text/x-python",
   "name": "python",
   "nbconvert_exporter": "python",
   "pygments_lexer": "ipython3",
   "version": "3.5.2"
  }
 },
 "nbformat": 4,
 "nbformat_minor": 2
}
