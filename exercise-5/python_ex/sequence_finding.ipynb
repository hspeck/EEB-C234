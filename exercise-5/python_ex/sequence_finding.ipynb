{
 "cells": [
  {
   "cell_type": "markdown",
   "metadata": {},
   "source": [
    "# Ok here's the final script"
   ]
  },
  {
   "cell_type": "code",
   "execution_count": 9,
   "metadata": {
    "collapsed": false
   },
   "outputs": [],
   "source": [
    "SearchFile=open(\"/home/eeb177-student/Desktop/eeb-177/CSB/unix/data/Marra2014_data.fasta\", \"r\")\n",
    "SeqLines=SearchFile.readlines()\n",
    "\n",
    "def format_seqs():\n",
    "    Funct_Dict={}\n",
    "    for line in SeqLines:\n",
    "        if line.startswith(\">\") == True:\n",
    "            contigname=line.split(\"  \")[0] #splits the contig info line and only grabs the first element of the row\n",
    "            seqholder=\"\"  #uses the fact that every new sequence is preceded by the contig name to rest seqholder every time you name a contig\n",
    "        else:\n",
    "            trimmed=line.replace(\"\\n\", \"\")  #removes the line breaks from the end of the sequences\n",
    "            seqholder=seqholder+trimmed  #adds the line to the growing sequence list\n",
    "            Funct_Dict[contigname]=seqholder  #sets the dictionary element to the sequence, will constantly reset the value to growing string\n",
    "    return Funct_Dict\n",
    "Format_dict=format_seqs()  #need to assign the output to a variable otherwise it is lost\n",
    "\n",
    "#ok we now have the properly formated sequence keyed to the contig\n",
    "#exist as a key-value pair in the dictionary item we assign as output of the function\n",
    "seq_output=open(\"seq_finding_output.csv\", \"w\")\n",
    "for key, value in Format_dict.items():\n",
    "    contig_name = key[1:] #this trims off the \">\" symbol from the contig name\n",
    "    matches=value.upper().count(\"AATG\")  #this searches the sequence for the appropriate search seq\n",
    "    seq_output.write(contig_name+\", \"+str(matches)+\"\\n\")\n",
    "seq_output.close()  #remember to close the file so that it writes!"
   ]
  },
  {
   "cell_type": "code",
   "execution_count": 6,
   "metadata": {
    "collapsed": false
   },
   "outputs": [
    {
     "data": {
      "text/plain": [
       "'AAGACCTGATGGCCAAGAGAAAGGAAGAAAATTTCTTGTCTCCTGAAAATGCAAAAAGACCAAGACAAGAAGAATTAGAGGATTTAGATAAAGATGGTGATGAAGATGAATGTACgGTTTCTTTCACTAATGGTACCTCTACTTTGACTGCAGCAGAAGTTGGAATAATTGAGAGCATTCAGCTAAGAAACTTCATGTGCCATTCCATGCTTGGACCTTTTAAATTTGGTTCTAATGTCAATTTTGTTGTTGGCAACAATGGAAGTGGCAAGAGTGCCGTCCTTACAGCTCTCATAGTCGGTCTTGGTGGAAAAGCAATTGCTACCAATAGAGGATCCTCTTtAAAAGGTTTTGTGAAAGATGGACaGAACTCAGCAGATATCTCAATAACATTACGGAACAGAGGAGATGATGCCTACAGGGCAAATGTGTATGGTGACACCATCGTGGTACAACAGCACATCAGCGTGGATGGAGGCCGATCTTACAAaCTAAAAAGTGGAGCTGGGACTTTAGTTTCTACTAAGAAAGAAGAGCTGGTTGCAATTCTTGATCACTTTAACATACAGGTGGATAACCCAGTGTCCGTTTTAACACAAGAGATGAGCAAGCAGTTTTtACAGTCGAAAAaTGAGGGAGACAAATACAAATTCTTCATGAAAGCAACGCAACTGGAACAGATGAAGGAAGATTATTCATACATTATGGAGACAAAAGAAaGAACAAAGGAGCAGATAAATCAAGGCGAAGAGCGACTCACTGAaCTAAAGCGCCAGTGTTTGGAGAAAGAAGAACGTTTTCAAAGTATTGCTGGTTTAAGTACAATGAAGACTAACCTtGAGTATTTGAAACATGAAATGGCTTGGGCAGTGGTCAATGAAATTGAAAAGCAACTGAATGCTATTAGAGATAATATCAAAATCGGAGAAGATCGTGCTGCTAGACTCAACAGGAAAATGGAAGAACAACAGGTCAGACTTAATGATGCAGAAAATAAATATAAAGATATTCAAGATAAATTAGAAAAGATTAGTCAAGAGACAAAAGCACGAGCCCCAGAATGTATGGCcTTGAAAGCTGATCTCACTGAAAAGAAAAGAACTTTCAATGAAGCTGAGGTTTTGTATAATCGGTCACTAAATGAATATAAAGCACTAAAAAAAGATGATGAGCAGCTCTGTAAAAGAATTGAAGAGCTAAAGAAAAGTGATCAATCTTTGGAACCTGAGCGATTGGAAAGGCAGAAAAAAaTCTGTTGGTTAAAAGAGAGAGTGAAGTCCTTACAGGATCAGGAAAATTCAGTCAATCAGGAAATTGAACAATTCCAGCAAGCTATAGAAAAGTACAAAGAAGAGCATAACAGACTTAGGAGAGAAGAATTCGATGTGAAGCAAGCAATGAACTACAATCAGAGGCAACTAAAAGAGTTGAAAGATaGTAAAACTGATCGAaTAAAAaGATTTGGTTCGCATGTTCCAGCACTTCTGGAAGCAATAGATGATGCTTACAGACGGGGACATTTTGCCCACAAACCTGTAGGCCCTTTAGGAGCCTGCATTTATCCTAAAGACCCTGAGCTTGCTTTGGCTATTGAATCTTGTTTAAAAGGACTTCTACAGGCCTATTGTTGCCATAATCATGCTGATGAAAGAGTACTGCAGTCACTAATGAAAAGGTTCTATCCACCTGGAACCCCTCGGCCACAGATAATAGTGTCTGAATTTCGGAATGAAGTTTATGATGTAAGACACAGAGCTGCTTACCATCCAGAGTATCCAACAGTTCTGACAGCTTTAGAAATAGATAATGCAGTTGTTGCAAATAGCCTGATCGACATGAGGGGCATTGAGACAGTGCTGCTAATCAAAAATAATTCCGTAGCTCGTTCAATAATGCAGTCCCAAAAGCCGCCcAAAAATTGTAGAGAAGCTTTTACTGCTGATGGTGATCAAGTTTTTtCAGGACGTTATTATTCATCTGAAAATACAAGACCTAAATTCCTAAGCAGAGATGTGGATTCTGAAATAAGTGATTTGGAGAATGAAGTTGAAAATAAGAAGGCGCAGATAGTAAAACTTCACCAACATTTGTCTGCACTTGAAAAAGATATTAAACACAACGATGAACTTCTTAAAAGGTGTCAGCTACATTATAAAGAGTTAAAGATGAAAATAaGAAAAACTATTTCTGAAATTCGGGAACTTGAGAATATTGAAGAACACCAATCTGTAGATATTGCAACCTTGGAAGATGAAGCTGAAGAAAATAAAATCAAAATGAAAATGGTTGAGAAAAATATGGAGCAACAAAAaGAAAACATGGAACATTTTAAAAGTCTGAAAATAGAAGCGGAAAACAAGTATGATGCAATGAAATTGAAAATTAACCAGCTGTCCGAGATGGCAGATCCACTTAAGGATGAATTAGACCTTGCTGATTCTGAAGTGGATAACCAAAACGAGGGAAGCGGCATTATGAAGATAAACAGAAAGAACACTTGAATACTTTAAATAAAAaGAAACGGGAACTTGACCTGAAAGAAAaGGAGCTAGAGGAGAAAATGTCACAAGCAAGACAGATTTGCCCAGAGCGGATAGAAGTAAAAAAATCGGCATCAATTCTAGATAAAGAAATTAATAGATTAAGACAAAAGATACAGGCTGAACATGCTAGCCATGGAGATCGAGAGGAAATAATGAAGCAGTACCAGGAAGCAAGAGAAAACTATCTTGATCTGGATAATAAAGTAAGGACTTTAAGAAGATTTATTAAATTACTAGAAGAAATAATGATCCATAGATTCAAAACATATCAGCAGTTTAGAAGGTGTTTGACTTTAAGATGCAAATTATACTTTGACAACTTATTATCTCAGCGGGCCTATTGTGGAAAAATGAATTTTGACCACAAGAGTGAAACTCTTACTATATCAGTTCAGCCTGGAGAGGGAAATAAAGCATCCTTCAACGACATGCGAGCTTTGTCTGGCGGTGAGCGATCTTTTTCCACAGTGTGCTTCATCCTTTCCCTGTGGTCCATTGCTGAGTCACCTTTCCGATGCCTGGATGAGTTTGATGTCTATATGGTATgGTTA'"
      ]
     },
     "execution_count": 6,
     "metadata": {},
     "output_type": "execute_result"
    }
   ],
   "source": [
    "Format_dict[\">contig01384\"]"
   ]
  },
  {
   "cell_type": "markdown",
   "metadata": {},
   "source": [
    "## Everything below here is notes and working through the problem"
   ]
  },
  {
   "cell_type": "markdown",
   "metadata": {
    "collapsed": true
   },
   "source": [
    "###want to import data file from Marra2014_data.fasta\n",
    "    #fasta files have header lines that begin with a > character,\n",
    "    #other lines are protein or data sequences\n",
    "    #currently stored CSB/unix/data\n",
    "#need import from wherever it is\n",
    "#need export csv in current working directory\n",
    "    #csv file with 2 columns\n",
    "        #one with name of sequence\n",
    "        #second with number of times the seq AATG appears in contig\n",
    "            #can use grep?\n",
    "                #use the options to find single words etc\n",
    "\n",
    "#should output to gauravs_output.csv\n",
    "\n",
    "#try separate the code into chunks, \n",
    "#test it with a much smaller datafile, so that program runs\n",
    "\n",
    "\n",
    "#code to count all instances of AATG\n",
    "    #grep -coE \"AATG\" <input>\n",
    "        #c for count, -o for individual, -E for regular expression,\n",
    "        #\"AATG\" for the pattern\n",
    "        \n",
    "        \n",
    "        \n",
    "        \n",
    "#oune issue to condiser is that in FASTA, sequences have a linebreak every 80 characters\n",
    "#so if we want to search, we may need to get rid of it?\n",
    "#don't want to get rid of all the line breaks, just those which are not starting by an >\n",
    "    \n"
   ]
  },
  {
   "cell_type": "markdown",
   "metadata": {},
   "source": [
    "### Hints given\n",
    "```\n",
    "if (re.match(pattern=\">\", string=line)):\n",
    "```\n",
    "Can use this to find if the line contains the contig name\n",
    "    \n",
    "```    \n",
    "contig_name = re.search(\">(\\w*)\\s.*\", line).group(1)\n",
    "```\n",
    "Can use this to set the contig name which we will eventually want to set as the key\n",
    "\n",
    "```\n",
    "output.write(key+\",\"+str(value)+\"\\n\")\n",
    "```\n",
    "this is part of the final part of the whole thing, putting the output into the correct format, pulls from a dictionary"
   ]
  },
  {
   "cell_type": "markdown",
   "metadata": {
    "collapsed": false
   },
   "source": [
    "#Loading the data workspace for the example\n",
    "```\n",
    "SearchFile=open(\"/home/eeb177-student/Desktop/eeb-177/CSB/unix/sandbox/wk5_test_file.csv\", \"r\")\n",
    "SeqLines=SearchFile.readlines()\n",
    "```\n",
    "#this gets us a file with each line on its own"
   ]
  },
  {
   "cell_type": "markdown",
   "metadata": {},
   "source": [
    "#### Changing the format\n",
    "\n",
    "    use a if then statement to change the format\n",
    "    if line.startswith(\">\")==False:\n",
    "        then want to replace the line break at the end of the line\n",
    "        line.replace(old=\"\\n\", new=\"\")\n",
    "    else:\n",
    "        line.replace(old=\"\\n\", new=\"\\n\"\n",
    "        "
   ]
  },
  {
   "cell_type": "markdown",
   "metadata": {
    "collapsed": false
   },
   "source": [
    "```\n",
    "def format_seqs():\n",
    "    Funct_Dict={}\n",
    "    for line in SeqLines:\n",
    "        if line.startswith(\">\") == True:\n",
    "            contigname=line.split(\"  \")[0] #splits the contig info line and only grabs the first element of the row\n",
    "            seqholder=\"\"  #uses the fact that every new sequence is preceded by the contig name to rest seqholder every time you name a contig\n",
    "        else:\n",
    "            trimmed=line.replace(\"\\n\", \"\")  #removes the line breaks from the end of the sequences\n",
    "            seqholder=seqholder+trimmed  #adds the line to the growing sequence list\n",
    "            Funct_Dict[contigname]=seqholder  #sets the dictionary element to the sequence, will constantly reset the value to growing string\n",
    "    return Funct_Dict\n",
    "xx=format_seqs()  #need to assign the output to a variable otherwise it is lost\n",
    "```\n",
    "#ok we now have the properly formated sequence keyed to the contig\n",
    "#exist as a key-value pair in the dictionary item we assign as output of the function"
   ]
  },
  {
   "cell_type": "markdown",
   "metadata": {
    "collapsed": false
   },
   "source": [
    "```\n",
    "for key, value in xx.items():\n",
    "    print(key+\" Corresponds to \\n\"+value)\n",
    "```\n",
    "gives an appropriate list, so it seems like it works"
   ]
  },
  {
   "cell_type": "markdown",
   "metadata": {},
   "source": [
    "Searching for the sequence\n",
    "\n",
    "it seems like not all the bases are always upper case,\n",
    "will have to standardize it before searching\n",
    "can do this with .upper() method\n",
    "\n",
    "something like\n",
    "    for key, value in Formated_Dict.items:\n",
    "        contig_name=key[1:-1]\n",
    "        matches=value.count(\"AATG\")\n",
    "        print(contig_name+\", \"+str(matches)+\"\\n\")"
   ]
  },
  {
   "cell_type": "markdown",
   "metadata": {
    "collapsed": false
   },
   "source": [
    "for key, value in xx.items():\n",
    "    contig_name = key[1:] #this trims off the \">\" symbol from the contig name\n",
    "    matches=value.count(\"AATG\")  #this searches the sequence for the appropriate search seq\n",
    "    print(contig_name+\", \"+str(matches)+\"\\n\")\n",
    "\n"
   ]
  },
  {
   "cell_type": "markdown",
   "metadata": {
    "collapsed": true
   },
   "source": [
    "#now to output it to a file\n",
    "\n",
    "SearchFile=open(\"/home/eeb177-student/Desktop/eeb-177/CSB/unix/sandbox/wk5_test_file.csv\", \"r\")\n",
    "SeqLines=SearchFile.readlines()\n",
    "\n",
    "def format_seqs():\n",
    "    Funct_Dict={}\n",
    "    for line in SeqLines:\n",
    "        if line.startswith(\">\") == True:\n",
    "            contigname=line.split(\"  \")[0] #splits the contig info line and only grabs the first element of the row\n",
    "            seqholder=\"\"  #uses the fact that every new sequence is preceded by the contig name to rest seqholder every time you name a contig\n",
    "        else:\n",
    "            trimmed=line.replace(\"\\n\", \"\")  #removes the line breaks from the end of the sequences\n",
    "            seqholder=seqholder+trimmed  #adds the line to the growing sequence list\n",
    "            Funct_Dict[contigname]=seqholder  #sets the dictionary element to the sequence, will constantly reset the value to growing string\n",
    "    return Funct_Dict\n",
    "Format_dict=format_seqs()  #need to assign the output to a variable otherwise it is lost\n",
    "\n",
    "#ok we now have the properly formated sequence keyed to the contig\n",
    "#exist as a key-value pair in the dictionary item we assign as output of the function\n",
    "seq_output=open(\"seq_finding_output.csv\", \"w\")\n",
    "for key, value in Format_dict.items():\n",
    "    contig_name = key[1:] #this trims off the \">\" symbol from the contig name\n",
    "    matches=value.upper().count(\"AATG\")  #this searches the sequence for the appropriate search seq\n",
    "    seq_output.write(contig_name+\", \"+str(matches)+\"\\n\")\n",
    "seq_output.close()  #remember to close the file so that it writes!\n",
    "\n",
    "#ok works for the test case"
   ]
  },
  {
   "cell_type": "code",
   "execution_count": null,
   "metadata": {
    "collapsed": true
   },
   "outputs": [],
   "source": []
  },
  {
   "cell_type": "markdown",
   "metadata": {},
   "source": []
  }
 ],
 "metadata": {
  "anaconda-cloud": {},
  "kernelspec": {
   "display_name": "Python [default]",
   "language": "python",
   "name": "python3"
  },
  "language_info": {
   "codemirror_mode": {
    "name": "ipython",
    "version": 3
   },
   "file_extension": ".py",
   "mimetype": "text/x-python",
   "name": "python",
   "nbconvert_exporter": "python",
   "pygments_lexer": "ipython3",
   "version": "3.5.2"
  }
 },
 "nbformat": 4,
 "nbformat_minor": 2
}
