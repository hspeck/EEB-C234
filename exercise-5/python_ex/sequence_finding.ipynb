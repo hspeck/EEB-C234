{
 "cells": [
  {
   "cell_type": "code",
   "execution_count": null,
   "metadata": {
    "collapsed": true
   },
   "outputs": [],
   "source": [
    "###want to import data file from Marra2014_data.fasta\n",
    "    #fasta files have header lines that begin with a > character,\n",
    "    #other lines are protein or data sequences\n",
    "    #currently stored CSB/unix/data\n",
    "#need import from wherever it is\n",
    "#need export csv in current working directory\n",
    "    #csv file with 2 columns\n",
    "        #one with name of sequence\n",
    "        #second with number of times the seq AATG appears in contig\n",
    "            #can use grep?\n",
    "                #use the options to find single words etc\n",
    "\n",
    "#should output to gauravs_output.csv\n",
    "\n",
    "#try separate the code into chunks, \n",
    "#test it with a much smaller datafile, so that program runs\n",
    "\n",
    "\n",
    "#code to count all instances of AATG\n",
    "    #grep -coE \"AATG\" <input>\n",
    "        #c for count, -o for individual, -E for regular expression,\n",
    "        #\"AATG\" for the pattern\n",
    "        \n",
    "        \n",
    "        \n",
    "        \n",
    "#oune issue to condiser is that in FASTA, sequences have a linebreak every 60 characters\n",
    "#so if we want to search, we may need to get rid of it?"
   ]
  }
 ],
 "metadata": {
  "anaconda-cloud": {},
  "kernelspec": {
   "display_name": "Python [default]",
   "language": "python",
   "name": "python3"
  },
  "language_info": {
   "codemirror_mode": {
    "name": "ipython",
    "version": 3
   },
   "file_extension": ".py",
   "mimetype": "text/x-python",
   "name": "python",
   "nbconvert_exporter": "python",
   "pygments_lexer": "ipython3",
   "version": "3.5.2"
  }
 },
 "nbformat": 4,
 "nbformat_minor": 2
}
