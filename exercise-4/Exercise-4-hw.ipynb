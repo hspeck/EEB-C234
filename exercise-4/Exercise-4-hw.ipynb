{
 "cells": [
  {
   "cell_type": "code",
   "execution_count": 1,
   "metadata": {
    "collapsed": false
   },
   "outputs": [
    {
     "name": "stdout",
     "output_type": "stream",
     "text": [
      "100\n",
      "101\n",
      "102\n",
      "103\n",
      "104\n",
      "105\n",
      "106\n",
      "107\n",
      "108\n",
      "109\n",
      "110\n"
     ]
    }
   ],
   "source": [
    "####1\n",
    "#want a for loop to print numbers 100 to 110\n",
    "\n",
    "for number in range(100,111):\n",
    "    print(number)"
   ]
  },
  {
   "cell_type": "code",
   "execution_count": 6,
   "metadata": {
    "collapsed": false
   },
   "outputs": [
    {
     "name": "stdout",
     "output_type": "stream",
     "text": [
      "100\n",
      "101\n",
      "102\n",
      "103\n",
      "104\n",
      "105\n",
      "106\n",
      "107\n",
      "108\n",
      "109\n",
      "110\n"
     ]
    }
   ],
   "source": [
    "###2 while loop to print numbers\n",
    "xx = 100\n",
    "\n",
    "while xx < 111:\n",
    "    print(xx)\n",
    "    xx=xx+1"
   ]
  },
  {
   "cell_type": "code",
   "execution_count": 10,
   "metadata": {
    "collapsed": false
   },
   "outputs": [
    {
     "name": "stdout",
     "output_type": "stream",
     "text": [
      "100\n",
      "121\n",
      "144\n",
      "169\n",
      "196\n",
      "225\n"
     ]
    }
   ],
   "source": [
    "for ee in range(10,16):\n",
    "    print(ee**2)\n",
    "    "
   ]
  },
  {
   "cell_type": "code",
   "execution_count": 13,
   "metadata": {
    "collapsed": false
   },
   "outputs": [
    {
     "name": "stdout",
     "output_type": "stream",
     "text": [
      "Scooby is a character in that most glorious of cartoons, Scooby Doo\n",
      "Shaggy is a character in that most glorious of cartoons, Scooby Doo\n",
      "Velma is a character in that most glorious of cartoons, Scooby Doo\n",
      "Daphne is a character in that most glorious of cartoons, Scooby Doo\n",
      "Fred is a character in that most glorious of cartoons, Scooby Doo\n"
     ]
    }
   ],
   "source": [
    "##4\n",
    "\n",
    "ScoobyGang=[\"Scooby\", \"Shaggy\", \"Velma\", \"Daphne\", \"Fred\"]\n",
    "\n",
    "for character in ScoobyGang:\n",
    "    print(character+\" is a character in that most glorious of cartoons, Scooby Doo\")"
   ]
  },
  {
   "cell_type": "code",
   "execution_count": 38,
   "metadata": {
    "collapsed": false
   },
   "outputs": [
    {
     "name": "stdout",
     "output_type": "stream",
     "text": [
      "Error, not an integer\n",
      "0\n",
      "120\n",
      "36\n"
     ]
    }
   ],
   "source": [
    "###5\n",
    "def fact_or_sum(userinput):\n",
    "    if type(userinput) != int:\n",
    "        print(\"Error, not an integer\")\n",
    "    elif userinput==0:\n",
    "        print(0)\n",
    "    elif (userinput%2)==1:\n",
    "        factcounter=1\n",
    "        for oddholder in range(1,userinput+1):\n",
    "            factcounter=factcounter*oddholder\n",
    "        print(factcounter)\n",
    "    elif (userinput%2)==0:\n",
    "        evenholder=userinput\n",
    "        sumcounter=0\n",
    "        while evenholder>0:\n",
    "            sumcounter=sumcounter+evenholder\n",
    "            evenholder=evenholder-1\n",
    "        print(sumcounter)\n",
    "    else:\n",
    "        print(\"Error\")\n",
    "#can deal with negativenumbers separately with another if else list nesting this    \n",
    "fact_or_sum(\"carrot\")\n",
    "fact_or_sum(0)\n",
    "fact_or_sum(5)\n",
    "fact_or_sum(8)"
   ]
  },
  {
   "cell_type": "code",
   "execution_count": null,
   "metadata": {
    "collapsed": true
   },
   "outputs": [],
   "source": []
  }
 ],
 "metadata": {
  "anaconda-cloud": {},
  "kernelspec": {
   "display_name": "Python [default]",
   "language": "python",
   "name": "python3"
  },
  "language_info": {
   "codemirror_mode": {
    "name": "ipython",
    "version": 3
   },
   "file_extension": ".py",
   "mimetype": "text/x-python",
   "name": "python",
   "nbconvert_exporter": "python",
   "pygments_lexer": "ipython3",
   "version": "3.5.2"
  }
 },
 "nbformat": 4,
 "nbformat_minor": 2
}
