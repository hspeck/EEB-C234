{
 "cells": [
  {
   "cell_type": "markdown",
   "metadata": {},
   "source": [
    "#### 1. How many fossils are included in the dataset?\n",
    "\n",
    "```\n",
    "tail -n +2 canid_occ.csv | wc -l\n",
    "```\n",
    "\n",
    "2946\n",
    "\n",
    "\n",
    "#### 2. How many fossils identified to genus level only?  How many to species level?\n",
    "\n",
    "```\n",
    "tail -n +2 canid_occ.csv | cut -d \",\" -f 7 | grep -c genus\n",
    "```\n",
    "614 fossils identified only to genus\n",
    "\n",
    "```\n",
    "tail -n +2 canid_occ.csv | cut -d \",\" -f 7 | grep -c species\n",
    "\n",
    "```\n",
    "2107 fossils ided to species level\n",
    "\n",
    "#### 3. How many unique accepted names are part of this dataset?\n",
    "```\n",
    "tail -n +2 canid_occ.csv | cut -d \",\" -f 6 | sort | uniq | wc -l\n",
    "```\n",
    "211\n"
   ]
  },
  {
   "cell_type": "markdown",
   "metadata": {},
   "source": [
    "#### How do you change the sampling frequency?\n",
    " the -s option allows you to change the sampling frequency, it defaults to -s 1000\n",
    " \n",
    "#### What does -n do?\n",
    "it specifies the numbr of MCMC or BDMCMC generations\n",
    "(MCMC means Markov Chain Monte Carlo, \n"
   ]
  },
  {
   "cell_type": "markdown",
   "metadata": {},
   "source": [
    "#### What do the three files produced by Pyrate mean?\n",
    "\n",
    "sum.txt is a complete list of the parameters used in PyRate\n",
    "\n",
    "mcmc.log is a tab delinated table with the MCMC samples of the various measures : eg. likelihood of preservation process, birth-death process, etc\n",
    "\n",
    "marginal_rates.log is a table witht he posteior samples of the marginal rates of diversification, extinction and speciation\n",
    "\n"
   ]
  },
  {
   "cell_type": "markdown",
   "metadata": {},
   "source": [
    "## Homework \n",
    "\n",
    "### 1.\n",
    "a.  speciation was moderately high from 50 to 30 million years ago, declined to its lowest point from 20 to 10 million years, and then spiked within roughly the last 5 million years\n",
    "\n",
    "b. Extinction rate remained constant and low up until roughly 2-3 MYA, when it abruptly spiked\n",
    "\n",
    "c. Diversificaiton was positive and somewhat low between 50 -20 MYA.  From 20 -7MYA it was slightly negative.  At roughly 7-2 MYA it was positive again, but after 2 MYA it dropped off sharply\n"
   ]
  },
  {
   "cell_type": "markdown",
   "metadata": {},
   "source": [
    "### 6.  Compare RTT plots\n",
    "\n"
   ]
  },
  {
   "cell_type": "markdown",
   "metadata": {},
   "source": [
    "The graphs are broadly similar between the short and long runs.\n",
    "\n",
    "The lines are somewhat smoother, with fewer fluctuations, so that speciation between 50 and 30 mya appears relatively constant and high. In the shorter run, the speciation rate appears to be high but fluctuates a bit."
   ]
  },
  {
   "cell_type": "code",
   "execution_count": null,
   "metadata": {
    "collapsed": true
   },
   "outputs": [],
   "source": []
  }
 ],
 "metadata": {
  "anaconda-cloud": {},
  "kernelspec": {
   "display_name": "Python [default]",
   "language": "python",
   "name": "python3"
  },
  "language_info": {
   "codemirror_mode": {
    "name": "ipython",
    "version": 3
   },
   "file_extension": ".py",
   "mimetype": "text/x-python",
   "name": "python",
   "nbconvert_exporter": "python",
   "pygments_lexer": "ipython3",
   "version": "3.5.2"
  }
 },
 "nbformat": 4,
 "nbformat_minor": 2
}
