{
 "cells": [
  {
   "cell_type": "code",
   "execution_count": 2,
   "metadata": {
    "collapsed": false
   },
   "outputs": [
    {
     "name": "stdout",
     "output_type": "stream",
     "text": [
      "20\n"
     ]
    }
   ],
   "source": [
    "##.2\n",
    "\n",
    "a=3\n",
    "b=17\n",
    "c=a+b\n",
    "print(c)"
   ]
  },
  {
   "cell_type": "code",
   "execution_count": 5,
   "metadata": {
    "collapsed": false
   },
   "outputs": [
    {
     "name": "stdout",
     "output_type": "stream",
     "text": [
      "3\n"
     ]
    }
   ],
   "source": [
    "favorite_animal=\"wolf\"\n",
    "\n",
    "favorite_dinners=[\"pizza\", \"pasta\", \"chicken kabob\"]\n",
    "\n",
    "num_fav_dinners=len(favorite_dinners)\n",
    "print(num_fav_dinners)"
   ]
  },
  {
   "cell_type": "code",
   "execution_count": 20,
   "metadata": {
    "collapsed": false
   },
   "outputs": [
    {
     "name": "stdout",
     "output_type": "stream",
     "text": [
      "ERROR NOT AN INTEGER\n",
      "What a pleasant temperature!\n"
     ]
    },
    {
     "data": {
      "text/plain": [
       "type"
      ]
     },
     "execution_count": 20,
     "metadata": {},
     "output_type": "execute_result"
    }
   ],
   "source": [
    "# .3 Writing a function hw3_function\n",
    "\n",
    "#we want to take integer as input, otherwise it prints an erro\n",
    "#if integer <5 want print message \"Brr! It's cold!\"\n",
    "#if integer >25 want print message \"It's pretty warm!\"\n",
    "#If integer between 5 and 25 should get \"What a pleasant temperature!\"\n",
    "\n",
    "def hw3_function(temp):\n",
    "    if type(temp) != int:\n",
    "        print(\"ERROR NOT AN INTEGER\")\n",
    "    elif temp < 5:\n",
    "        print(\"Brr! It's cold!\")\n",
    "    elif temp > 25:\n",
    "        print(\"It's pretty warm!\")\n",
    "    else:\n",
    "        print(\"What a pleasant temperature!\")\n",
    "   \n",
    "            \n",
    "            \n",
    "#testing the function here            \n",
    "duck=\"duck\"\n",
    "hw3_function(duck)\n",
    "\n",
    "hw3_function(17)\n"
   ]
  },
  {
   "cell_type": "code",
   "execution_count": 36,
   "metadata": {
    "collapsed": false,
    "scrolled": true
   },
   "outputs": [
    {
     "data": {
      "text/plain": [
       "<_sre.SRE_Match object; span=(0, 5), match='GATGG'>"
      ]
     },
     "execution_count": 36,
     "metadata": {},
     "output_type": "execute_result"
    }
   ],
   "source": [
    "#4.\n",
    "#now we consider the string of DNA\n",
    "#want a python regular expression that searches for G, A/T, A/T,G,A/T/G/C\n",
    "\n",
    "#let's define our string to search\n",
    "dna1=\"ATAATTAACGGAGCTTATTA\"\n",
    "dna2=\"GATGG\"\n",
    "#dna1 is negativecontrol (pattern doesn't actually exist)\n",
    "#dna2 is positive control\n",
    "#set up the regular expression\n",
    "import re\n",
    "re.search(pattern=r\"G[AT][AT]G[ATGC]\", string=dna1)\n",
    "   \n",
    "re.search(pattern=r\"G[AT][AT]G[ATGC]\", string=dna2)\n",
    "\n",
    "#both results work out as they should\n",
    "#pattern is r\"G[AT][AT]G[ATGC]\""
   ]
  },
  {
   "cell_type": "code",
   "execution_count": 92,
   "metadata": {
    "collapsed": false
   },
   "outputs": [
    {
     "name": "stdout",
     "output_type": "stream",
     "text": [
      "You picked rock; Computer picked scissors; +1 for You!\n",
      "You picked scissors; Computer picked rock; +1 for Computer\n",
      "You picked paper; Computer picked rock, +1 for You!\n",
      "Improper input, try again with proper input!\n"
     ]
    }
   ],
   "source": [
    "##5.\n",
    "# want to play rock paper scissors\n",
    "#function is named rps\n",
    "#want input to be rock, paper, scissors\n",
    "#if anything else should print asking to run again properly\n",
    "#want to use choice to pick a random result from computer\n",
    "#make the choice vector\n",
    "\n",
    "def rps(userchoice):\n",
    "    import random\n",
    "    PossibleChoice=[\"rock\", \"paper\", \"scissors\"]\n",
    "    compchoice=random.choice(PossibleChoice)\n",
    "    if userchoice==\"rock\":\n",
    "        if compchoice == \"rock\":\n",
    "            print(\"You picked rock; Computer picked rock: this is a tie!\")\n",
    "        elif compchoice == \"paper\":\n",
    "            print(\"You picked rock; Computer picked paper; +1 for Computer!\")\n",
    "        else:\n",
    "            print(\"You picked rock; Computer picked scissors; +1 for You!\")\n",
    "    elif userchoice==\"paper\":\n",
    "        if compchoice == \"rock\":\n",
    "            print(\"You picked paper; Computer picked rock, +1 for You!\")\n",
    "        elif compchoice == \"paper\":\n",
    "            print(\"You picked paper; Computer picked paper; this is a tie!\")\n",
    "        else:\n",
    "            print(\"You picked paper; Computer picked scissors; +1 for Computer\")\n",
    "    elif userchoice==\"scissors\":\n",
    "        if compchoice == \"rock\":\n",
    "            print(\"You picked scissors; Computer picked rock; +1 for Computer\")\n",
    "        elif compchoice==\"paper\":\n",
    "            print(\"You picked scissors; Computer picked paper; +1 for You\")\n",
    "        else:\n",
    "            print(\"You picked scissors; Computer picked scissors; this is a tie!\")\n",
    "    else:\n",
    "        print(\"Improper input, try again with proper input!\")\n",
    "\n",
    "        \n",
    "rps(\"rock\")\n",
    "rps(\"scissors\")\n",
    "rps(\"paper\")\n",
    "rps(\"haplotype\")\n",
    "\n",
    "##All testcases work!"
   ]
  },
  {
   "cell_type": "code",
   "execution_count": null,
   "metadata": {
    "collapsed": false
   },
   "outputs": [],
   "source": []
  },
  {
   "cell_type": "code",
   "execution_count": null,
   "metadata": {
    "collapsed": false
   },
   "outputs": [],
   "source": []
  },
  {
   "cell_type": "code",
   "execution_count": null,
   "metadata": {
    "collapsed": true
   },
   "outputs": [],
   "source": []
  }
 ],
 "metadata": {
  "anaconda-cloud": {},
  "kernelspec": {
   "display_name": "Python [default]",
   "language": "python",
   "name": "python3"
  },
  "language_info": {
   "codemirror_mode": {
    "name": "ipython",
    "version": 3
   },
   "file_extension": ".py",
   "mimetype": "text/x-python",
   "name": "python",
   "nbconvert_exporter": "python",
   "pygments_lexer": "ipython3",
   "version": "3.5.2"
  }
 },
 "nbformat": 4,
 "nbformat_minor": 2
}
